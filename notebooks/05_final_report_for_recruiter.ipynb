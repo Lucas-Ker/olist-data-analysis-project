{
 "cells": [
  {
   "cell_type": "markdown",
   "id": "79aaf3a3",
   "metadata": {},
   "source": [
    "# Análise de E-commerce (Olist): Insights de Vendas, Logística e Satisfação do Cliente\n",
    "\n",
    "**Sumário Executivo:**\n",
    "Este relatório apresenta as principais conclusões da análise exploratória realizada sobre o dataset da Olist. A análise revelou insights sobre a concentração geográfica das vendas, a forte sazonalidade de certas categorias de produtos e o impacto crítico do tempo de entrega na satisfação dos clientes. As recomendações focam em otimizar a logística para regiões com maior tempo de frete e em alavancar a sazonalidade com campanhas de marketing estratégicas.\n",
    "\n",
    "---\n",
    "\n",
    "### Sumário (Tabela de Conteúdos)\n",
    "\n",
    "1.  **[Introdução](#introducao)**\n",
    "    * 1.1. Contexto do Projeto\n",
    "    * 1.2. Perguntas de Negócio\n",
    "2.  **[Análise Geográfica: Onde Estão os Clientes?](#analise-geografica)**\n",
    "    * 2.1. Distribuição de Clientes e Receita por Estado\n",
    "    * 2.2. O Custo e o Tempo do Frete por Região\n",
    "3.  **[Análise Temporal: Quando os Clientes Compram?](#analise-temporal)**\n",
    "    * 3.1. Sazonalidade das Vendas ao Longo do Ano\n",
    "    * 3.2. Padrões de Compra por Dia da Semana e Hora\n",
    "4.  **[Análise de Satisfação: O Impacto da Logística](#analise-satisfacao)**\n",
    "    * 4.1. Correlação entre Atraso na Entrega e Nota da Avaliação\n",
    "    * 4.2. Principais Temas nas Avaliações Negativas\n",
    "5.  **[Conclusões e Recomendações](#conclusoes)**\n",
    "6.  **[Próximos Passos](#proximos-passos)**"
   ]
  },
  {
   "cell_type": "markdown",
   "id": "75117633",
   "metadata": {},
   "source": [
    "---\n",
    "## 1. Introdução <a id=\"introducao\"></a>\n",
    "\n",
    "### 1.1. Contexto do Projeto\n",
    "Este projeto analisa dados de mais de 100.000 pedidos realizados na Olist, o maior marketplace do Brasil. O objetivo é entender os principais fatores que impulsionam as vendas e afetam a experiência do cliente para gerar recomendações de negócio.\n",
    "\n",
    "### 1.2. Perguntas de Negócio\n",
    "A análise busca responder:\n",
    "* Onde estão concentrados os clientes e a receita da Olist?\n",
    "* Existem padrões sazonais de compra?\n",
    "* Qual a relação entre a performance da entrega e a satisfação do cliente?"
   ]
  },
  {
   "cell_type": "code",
   "execution_count": 4,
   "id": "7683bcfd",
   "metadata": {},
   "outputs": [
    {
     "name": "stdout",
     "output_type": "stream",
     "text": [
      "Carregando dados processados de: /home/lucas/projeto-olist-portfolio/notebooks/../data/processed/main_data.parquet\n",
      "Dados processados carregados com sucesso!\n",
      "Shape do dataframe: (119143, 40)\n"
     ]
    }
   ],
   "source": [
    "# Importando bibliotecas e nossas funções\n",
    "import pandas as pd\n",
    "import numpy as np\n",
    "import seaborn as sns\n",
    "import matplotlib.pyplot as plt\n",
    "\n",
    "import sys\n",
    "sys.path.append('..') \n",
    "from src.data_utils import load_processed\n",
    "#from src.viz import # Adicionar aqui as funções de plot que você criar\n",
    "\n",
    "# Carregando os dados já limpos e processados\n",
    "df = load_processed('main_data')\n",
    "\n",
    "print(\"Dados processados carregados com sucesso!\")\n",
    "print(f\"Shape do dataframe: {df.shape}\")"
   ]
  },
  {
   "cell_type": "markdown",
   "id": "5977b18d",
   "metadata": {},
   "source": [
    "---\n",
    "## 2. Análise Geográfica: Onde Estão os Clientes? <a id=\"analise-geografica\"></a>"
   ]
  },
  {
   "cell_type": "code",
   "execution_count": null,
   "id": "2363e19d",
   "metadata": {},
   "outputs": [],
   "source": [
    "# CÓDIGO AQUI: para gerar o gráfico de receita por estado\n",
    "# Ex: Chamar uma função de src.viz para plotar o mapa ou gráfico de barras"
   ]
  },
  {
   "cell_type": "markdown",
   "id": "c8313d96",
   "metadata": {},
   "source": [
    "**Insight:** A análise mostra que o estado de São Paulo domina, sendo responsável por mais de 40% da receita total. No entanto, o custo do frete para a região Nordeste é 50% maior em média, representando um desafio logístico."
   ]
  }
 ],
 "metadata": {
  "kernelspec": {
   "display_name": "venv",
   "language": "python",
   "name": "python3"
  },
  "language_info": {
   "codemirror_mode": {
    "name": "ipython",
    "version": 3
   },
   "file_extension": ".py",
   "mimetype": "text/x-python",
   "name": "python",
   "nbconvert_exporter": "python",
   "pygments_lexer": "ipython3",
   "version": "3.12.3"
  }
 },
 "nbformat": 4,
 "nbformat_minor": 5
}
